{
 "cells": [
  {
   "cell_type": "markdown",
   "metadata": {},
   "source": [
    "# PIAIC ISLAMABAD\n",
    "## Assignment No# 1\n",
    "## Name: Ashar Naveed\n",
    "## Roll No: PIAIC59853\n",
    "## Course: Artificial Intelligence\n",
    "## String Functions"
   ]
  },
  {
   "cell_type": "code",
   "execution_count": 1,
   "metadata": {},
   "outputs": [
    {
     "name": "stdout",
     "output_type": "stream",
     "text": [
      "ASHAR NAVEED & FATHER NAME IS NAVEED AKBAR ALI\n"
     ]
    }
   ],
   "source": [
    "#--Upper\n",
    "name= \"Ashar Naveed & Father name is Naveed Akbar Ali\"\n",
    "print(name.upper())"
   ]
  },
  {
   "cell_type": "code",
   "execution_count": 2,
   "metadata": {},
   "outputs": [
    {
     "name": "stdout",
     "output_type": "stream",
     "text": [
      "Ashar\n"
     ]
    }
   ],
   "source": [
    "#--Title\n",
    "name= \"Ashar\"\n",
    "print(name.title())"
   ]
  },
  {
   "cell_type": "code",
   "execution_count": 4,
   "metadata": {},
   "outputs": [
    {
     "name": "stdout",
     "output_type": "stream",
     "text": [
      "I'm a Designer\n"
     ]
    }
   ],
   "source": [
    "#--Replace\n",
    "name= \"I'm a Developer\"\n",
    "print(name.replace(\"Developer\", \"Designer\"))"
   ]
  },
  {
   "cell_type": "code",
   "execution_count": 5,
   "metadata": {},
   "outputs": [
    {
     "name": "stdout",
     "output_type": "stream",
     "text": [
      "11\n"
     ]
    }
   ],
   "source": [
    "#--Find\n",
    "name= \"Hey! I'm a Designer\"\n",
    "print(name.find(\"Designer\"))"
   ]
  },
  {
   "cell_type": "code",
   "execution_count": 9,
   "metadata": {},
   "outputs": [
    {
     "name": "stdout",
     "output_type": "stream",
     "text": [
      "3\n"
     ]
    }
   ],
   "source": [
    "#--Count\n",
    "name= \"ashar naveed\"\n",
    "print(name.count(\"a\"))"
   ]
  },
  {
   "cell_type": "code",
   "execution_count": 10,
   "metadata": {},
   "outputs": [
    {
     "name": "stdout",
     "output_type": "stream",
     "text": [
      "ashar naveed\n"
     ]
    }
   ],
   "source": [
    "#--Lower\n",
    "name= \"ASHAR NAVEED\"\n",
    "print(name.lower())"
   ]
  },
  {
   "cell_type": "code",
   "execution_count": 11,
   "metadata": {},
   "outputs": [
    {
     "name": "stdout",
     "output_type": "stream",
     "text": [
      "12\n"
     ]
    }
   ],
   "source": [
    "#--Len\n",
    "name= \"Ashar Naveed\"\n",
    "print(len(name))"
   ]
  },
  {
   "cell_type": "code",
   "execution_count": 13,
   "metadata": {},
   "outputs": [
    {
     "name": "stdout",
     "output_type": "stream",
     "text": [
      "Sum is 50\n"
     ]
    }
   ],
   "source": [
    "#--STR\n",
    "Numb1= 20\n",
    "Numb2= 30\n",
    "total= Numb1+Numb2\n",
    "print(\"Sum is \" + str(total))"
   ]
  },
  {
   "cell_type": "code",
   "execution_count": 14,
   "metadata": {},
   "outputs": [
    {
     "name": "stdout",
     "output_type": "stream",
     "text": [
      "****Ashar Naveed****\n"
     ]
    }
   ],
   "source": [
    "#--Center\n",
    "name= \"Ashar Naveed\"\n",
    "print(name.center(len(name)+8,\"*\"))"
   ]
  },
  {
   "cell_type": "code",
   "execution_count": 17,
   "metadata": {},
   "outputs": [
    {
     "name": "stdout",
     "output_type": "stream",
     "text": [
      "Ashar last name is Naveed\n"
     ]
    }
   ],
   "source": [
    "#--Format_Map\n",
    "name= {'x':'Ashar','y':'Naveed'}\n",
    "print(\"{x} last name is {y}\".format_map(name))"
   ]
  },
  {
   "cell_type": "code",
   "execution_count": 18,
   "metadata": {},
   "outputs": [
    {
     "name": "stdout",
     "output_type": "stream",
     "text": [
      "hello\n"
     ]
    }
   ],
   "source": [
    "#--Class\n",
    "class Test:\n",
    "    print(\"hello\")"
   ]
  },
  {
   "cell_type": "code",
   "execution_count": 22,
   "metadata": {},
   "outputs": [
    {
     "data": {
      "text/plain": [
       "True"
      ]
     },
     "execution_count": 22,
     "metadata": {},
     "output_type": "execute_result"
    }
   ],
   "source": [
    "#--Contains\n",
    "string= \"North London is Red\"\n",
    "\"Red\" in string"
   ]
  },
  {
   "cell_type": "code",
   "execution_count": 33,
   "metadata": {},
   "outputs": [
    {
     "name": "stdout",
     "output_type": "stream",
     "text": [
      "x=  10\n",
      "y=  -5\n",
      "z=  0\n",
      "After deleting z attribute\n",
      "x=  10\n",
      "y=  -5\n"
     ]
    }
   ],
   "source": [
    "#--deLattr\n",
    "class Coordinate:\n",
    "    x= 10\n",
    "    y= -5\n",
    "    z= 0\n",
    "    \n",
    "point= Coordinate()\n",
    "\n",
    "print('x= ', point.x)\n",
    "print('y= ', point.y)\n",
    "print('z= ', point.z)\n",
    "\n",
    "delattr(Coordinate, 'z')\n",
    "\n",
    "print(\"After deleting z attribute\")\n",
    "print('x= ', point.x)\n",
    "print('y= ', point.y)"
   ]
  },
  {
   "cell_type": "code",
   "execution_count": 45,
   "metadata": {},
   "outputs": [
    {
     "name": "stdout",
     "output_type": "stream",
     "text": [
      "Age is  22\n"
     ]
    }
   ],
   "source": [
    "#--Getattr\n",
    "class person:\n",
    "    name= \"Ashar\"\n",
    "    age= 22\n",
    "person= Person()\n",
    "print(\"Age is \", getattr(person, \"age\"))"
   ]
  },
  {
   "cell_type": "code",
   "execution_count": 55,
   "metadata": {},
   "outputs": [
    {
     "name": "stdout",
     "output_type": "stream",
     "text": [
      "22\n"
     ]
    }
   ],
   "source": [
    "#--Getitem\n",
    "class Person:\n",
    "    def __init__(self,name,age):\n",
    "        self.name = name\n",
    "        self.age = age\n",
    "\n",
    "    def __getitem__(self,key):\n",
    "        return getattr(self,key)\n",
    "\n",
    "p = Person(\"Ashar\",22)\n",
    "print (p[\"age\"])"
   ]
  },
  {
   "cell_type": "code",
   "execution_count": 56,
   "metadata": {},
   "outputs": [
    {
     "name": "stdout",
     "output_type": "stream",
     "text": [
      "The hash is: -3659062137945568849\n"
     ]
    }
   ],
   "source": [
    "#--Hash\n",
    "vowels = ('a', 'e', 'i', 'o', 'u')\n",
    "\n",
    "print('The hash is:', hash(vowels))"
   ]
  },
  {
   "cell_type": "code",
   "execution_count": 59,
   "metadata": {},
   "outputs": [
    {
     "name": "stdout",
     "output_type": "stream",
     "text": [
      "Init called.\n"
     ]
    }
   ],
   "source": [
    "#--init or _init_\n",
    "class Student(object):\n",
    "\n",
    "    def __init__(self, something):\n",
    "        print(\"Init called.\")\n",
    "        self.something = something\n",
    "\n",
    "    def method(self):\n",
    "        return self.something \n",
    "\n",
    "my_object = Student('Jetty')"
   ]
  },
  {
   "cell_type": "code",
   "execution_count": 64,
   "metadata": {},
   "outputs": [
    {
     "name": "stdout",
     "output_type": "stream",
     "text": [
      "xyz\n",
      "abc\n",
      "12\n"
     ]
    }
   ],
   "source": [
    "#--Subclass\n",
    "class Child():\n",
    "\tdef __init__(self,name):\n",
    "\t\tself.name = name\n",
    "class Student(Child): #student is a subclass of child()\n",
    "\tdef __init__(self,name,roll):\n",
    "\t\tself.roll = roll\n",
    "\t\tChild.__init__(self,name)\n",
    "a = Child(\"xyz\")\n",
    "print(a.name)\n",
    "b = Student(\"abc\",12)\n",
    "print(b.name)\n",
    "print(b.roll)"
   ]
  },
  {
   "cell_type": "code",
   "execution_count": 65,
   "metadata": {},
   "outputs": [
    {
     "name": "stdout",
     "output_type": "stream",
     "text": [
      "a\n",
      "e\n",
      "i\n",
      "o\n",
      "u\n"
     ]
    }
   ],
   "source": [
    "#--iter -> A method creates an object which can be iterated one element at a time.\n",
    "\n",
    "# list of vowels\n",
    "vowels = ['a', 'e', 'i', 'o', 'u']\n",
    "\n",
    "vowelsIter = iter(vowels)\n",
    "\n",
    "print(next(vowelsIter))\n",
    "print(next(vowelsIter))\n",
    "print(next(vowelsIter))\n",
    "print(next(vowelsIter))\n",
    "print(next(vowelsIter))"
   ]
  },
  {
   "cell_type": "code",
   "execution_count": 69,
   "metadata": {},
   "outputs": [
    {
     "name": "stdout",
     "output_type": "stream",
     "text": [
      "['Bat', 'Cat', 'Fat', 'Gat', 'Mat', 'Rat', 'Sat']\n"
     ]
    }
   ],
   "source": [
    "#--Splitlines\n",
    "string = \"Bat\\nCat\\nFat\\nGat\\nMat\\nRat\\nSat\"\n",
    "\n",
    "print(string.splitlines())"
   ]
  },
  {
   "cell_type": "code",
   "execution_count": 73,
   "metadata": {},
   "outputs": [
    {
     "name": "stdout",
     "output_type": "stream",
     "text": [
      "Dividend :  6\n",
      "Divisor :  4\n",
      "Remainder :  2\n"
     ]
    }
   ],
   "source": [
    "#--mod\n",
    "num1 = 6\n",
    "num2 = 4\n",
    "mod = num1%num2\n",
    "\n",
    "print(\"Dividend : \", num1) \n",
    "print(\"Divisor : \", num2) \n",
    "print(\"Remainder : \", mod)"
   ]
  },
  {
   "cell_type": "code",
   "execution_count": 75,
   "metadata": {},
   "outputs": [
    {
     "name": "stdout",
     "output_type": "stream",
     "text": [
      "Answer is  4\n"
     ]
    }
   ],
   "source": [
    "#--mul\n",
    "num1=2\n",
    "num2=2\n",
    "Mul=num1*num2\n",
    "\n",
    "print(\"Answer is \", Mul)"
   ]
  },
  {
   "cell_type": "code",
   "execution_count": 83,
   "metadata": {},
   "outputs": [
    {
     "name": "stdout",
     "output_type": "stream",
     "text": [
      "SAMPLE\n"
     ]
    }
   ],
   "source": [
    "#--New -> new() executes before init(). New() decides whether to use the init() method or not\n",
    "class Sample(object):\n",
    "    \n",
    "    def __str__(self):\n",
    "        return \"SAMPLE\"\n",
    "class A(object):\n",
    "\n",
    "    def __new__(cls):\n",
    "        return Sample()\n",
    "\n",
    "\n",
    "print(A())"
   ]
  },
  {
   "cell_type": "code",
   "execution_count": 86,
   "metadata": {},
   "outputs": [
    {
     "name": "stdout",
     "output_type": "stream",
     "text": [
      "x= 1  y= 2\n",
      "x= 2  y= 3\n",
      "Factorial of 3:  6\n"
     ]
    }
   ],
   "source": [
    "#--Reduce: reduce() stores the intermediate result and only returns the final summation value.\n",
    "\n",
    "import functools\n",
    "def mult(x,y):\n",
    "    print(\"x=\",x,\" y=\",y)\n",
    "    return x*y\n",
    "\n",
    "fact=functools.reduce(mult, range(1, 4))\n",
    "print ('Factorial of 3: ', fact)"
   ]
  },
  {
   "cell_type": "code",
   "execution_count": 88,
   "metadata": {},
   "outputs": [
    {
     "data": {
      "text/plain": [
       "\"'Ashar'\""
      ]
     },
     "execution_count": 88,
     "metadata": {},
     "output_type": "execute_result"
    }
   ],
   "source": [
    "#--Repr: A method returns a printable representation of the given object.\n",
    "\n",
    "name = 'Ashar'\n",
    "\n",
    "repr(name)"
   ]
  },
  {
   "cell_type": "code",
   "execution_count": 90,
   "metadata": {},
   "outputs": [
    {
     "name": "stdout",
     "output_type": "stream",
     "text": [
      "Before modification: Ashar\n",
      "After modification: Ahmed\n"
     ]
    }
   ],
   "source": [
    "#--Setattr\n",
    "\n",
    "class Person:\n",
    "    name = 'Ashar'\n",
    "    \n",
    "p = Person()\n",
    "print('Before modification:', p.name)\n",
    "\n",
    "# setting name to 'John'\n",
    "setattr(p, 'name', 'Ahmed')\n",
    "\n",
    "print('After modification:', p.name)"
   ]
  },
  {
   "cell_type": "code",
   "execution_count": 94,
   "metadata": {},
   "outputs": [
    {
     "data": {
      "text/plain": [
       "88"
      ]
     },
     "execution_count": 94,
     "metadata": {},
     "output_type": "execute_result"
    }
   ],
   "source": [
    "#--Size of\n",
    "\n",
    "import sys \n",
    "#import sys in python is loading the module named sys into the current namespace so\n",
    "#that you can access the functions and anything else defined within the module using the module name.\n",
    "a = [1,2,3]\n",
    "sys.getsizeof(a)"
   ]
  },
  {
   "cell_type": "code",
   "execution_count": 2,
   "metadata": {},
   "outputs": [
    {
     "name": "stdout",
     "output_type": "stream",
     "text": [
      "Ashar naveed\n"
     ]
    }
   ],
   "source": [
    "#--Captilize\n",
    "\n",
    "name= \"ashar naveed\"\n",
    "print(name.capitalize())"
   ]
  },
  {
   "cell_type": "code",
   "execution_count": 4,
   "metadata": {},
   "outputs": [
    {
     "name": "stdout",
     "output_type": "stream",
     "text": [
      "x\n"
     ]
    }
   ],
   "source": [
    "#--Casefold\n",
    "name=\"X\"\n",
    "print(name.casefold())"
   ]
  },
  {
   "cell_type": "code",
   "execution_count": 10,
   "metadata": {},
   "outputs": [
    {
     "name": "stdout",
     "output_type": "stream",
     "text": [
      "False\n"
     ]
    }
   ],
   "source": [
    "#--Endwith\n",
    "Hi =\"Python is Latest and Easiest Language\"\n",
    "Hello= Hi.endswith(\"Easiest\")\n",
    "print(Hello)"
   ]
  },
  {
   "cell_type": "code",
   "execution_count": 12,
   "metadata": {},
   "outputs": [
    {
     "name": "stdout",
     "output_type": "stream",
     "text": [
      " Hi      I've    Q Infinity\n"
     ]
    }
   ],
   "source": [
    "#--Expandtabs\n",
    "string= \" Hi \\t I've \\t Q Infinity\"\n",
    "res= string.expandtabs()\n",
    "print(res)"
   ]
  },
  {
   "cell_type": "code",
   "execution_count": 15,
   "metadata": {},
   "outputs": [
    {
     "name": "stdout",
     "output_type": "stream",
     "text": [
      "b'This is for Encoding \\\\pTesting'\n"
     ]
    }
   ],
   "source": [
    "#--Encode\n",
    "message=\"This is for Encoding \\pTesting\"\n",
    "\n",
    "print(message.encode())"
   ]
  },
  {
   "cell_type": "code",
   "execution_count": 16,
   "metadata": {},
   "outputs": [
    {
     "name": "stdout",
     "output_type": "stream",
     "text": [
      "3\n"
     ]
    }
   ],
   "source": [
    "#--Index\n",
    "name=\"Ashar\"\n",
    "print(name.index(\"ar\"))"
   ]
  },
  {
   "cell_type": "code",
   "execution_count": 25,
   "metadata": {},
   "outputs": [
    {
     "name": "stdout",
     "output_type": "stream",
     "text": [
      "False\n"
     ]
    }
   ],
   "source": [
    "#--Isalnum\n",
    "name=\"Ashar Naveed\"\n",
    "print(name.isalnum())"
   ]
  },
  {
   "cell_type": "code",
   "execution_count": 23,
   "metadata": {},
   "outputs": [
    {
     "name": "stdout",
     "output_type": "stream",
     "text": [
      "True\n"
     ]
    }
   ],
   "source": [
    "#--Isalpha\n",
    "name=\"AsharNaveed\"\n",
    "print(name.isalpha())"
   ]
  },
  {
   "cell_type": "code",
   "execution_count": 26,
   "metadata": {},
   "outputs": [
    {
     "name": "stdout",
     "output_type": "stream",
     "text": [
      "True\n"
     ]
    }
   ],
   "source": [
    "#--Isdecimal\n",
    "Year=\"2016\"\n",
    "print(Year.isdecimal())"
   ]
  },
  {
   "cell_type": "code",
   "execution_count": 27,
   "metadata": {},
   "outputs": [
    {
     "name": "stdout",
     "output_type": "stream",
     "text": [
      "True\n"
     ]
    }
   ],
   "source": [
    "#--Isdigit\n",
    "num=\"2016\"\n",
    "print(num.isdigit())"
   ]
  },
  {
   "cell_type": "code",
   "execution_count": 29,
   "metadata": {},
   "outputs": [
    {
     "name": "stdout",
     "output_type": "stream",
     "text": [
      "False\n"
     ]
    }
   ],
   "source": [
    "#--Isidentifier\n",
    "no=\"Joy&Sad2016\"\n",
    "print(no.isidentifier())"
   ]
  },
  {
   "cell_type": "code",
   "execution_count": 32,
   "metadata": {},
   "outputs": [
    {
     "name": "stdout",
     "output_type": "stream",
     "text": [
      "True\n"
     ]
    }
   ],
   "source": [
    "#--Islower\n",
    "name=\"ashar naveed\"\n",
    "print(name.islower())"
   ]
  },
  {
   "cell_type": "code",
   "execution_count": 35,
   "metadata": {},
   "outputs": [
    {
     "name": "stdout",
     "output_type": "stream",
     "text": [
      "False\n"
     ]
    }
   ],
   "source": [
    "#--Isnumeric\n",
    "name=\"2016@Han\"\n",
    "print(name.isnumeric())"
   ]
  },
  {
   "cell_type": "code",
   "execution_count": 34,
   "metadata": {},
   "outputs": [
    {
     "name": "stdout",
     "output_type": "stream",
     "text": [
      "True\n"
     ]
    }
   ],
   "source": [
    "#--Isprintable\n",
    "name=\"Ashar Naveed\"\n",
    "print(name.isprintable())"
   ]
  },
  {
   "cell_type": "code",
   "execution_count": 36,
   "metadata": {},
   "outputs": [
    {
     "name": "stdout",
     "output_type": "stream",
     "text": [
      "False\n"
     ]
    }
   ],
   "source": [
    "#--Isspace\n",
    "name=\"AsharNaveed\"\n",
    "print(name.isspace())"
   ]
  },
  {
   "cell_type": "code",
   "execution_count": 37,
   "metadata": {},
   "outputs": [
    {
     "name": "stdout",
     "output_type": "stream",
     "text": [
      "False\n"
     ]
    }
   ],
   "source": [
    "#--Istitle\n",
    "name= \"ASHAR NAVEED\"\n",
    "print(name.istitle())"
   ]
  },
  {
   "cell_type": "code",
   "execution_count": 38,
   "metadata": {},
   "outputs": [
    {
     "name": "stdout",
     "output_type": "stream",
     "text": [
      "True\n"
     ]
    }
   ],
   "source": [
    "#--Isupper\n",
    "name=\"ASHAR NAVEED\"\n",
    "print(name.isupper())"
   ]
  },
  {
   "cell_type": "code",
   "execution_count": 39,
   "metadata": {},
   "outputs": [
    {
     "name": "stdout",
     "output_type": "stream",
     "text": [
      "0Ashar6Ashar1\n"
     ]
    }
   ],
   "source": [
    "#--Join\n",
    "name=\"Ashar\"\n",
    "Roll_N=\"061\"\n",
    "print(name.join(Roll_N))"
   ]
  },
  {
   "cell_type": "code",
   "execution_count": 41,
   "metadata": {},
   "outputs": [
    {
     "name": "stdout",
     "output_type": "stream",
     "text": [
      "Ashar                                                        \n"
     ]
    }
   ],
   "source": [
    "#--Ljust\n",
    "name=\"Ashar\"\n",
    "Rnum=61\n",
    "print(name.ljust(Rnum))"
   ]
  },
  {
   "cell_type": "code",
   "execution_count": 42,
   "metadata": {},
   "outputs": [
    {
     "name": "stdout",
     "output_type": "stream",
     "text": [
      "                                                        Ashar\n"
     ]
    }
   ],
   "source": [
    "#--Rjust\n",
    "name=\"Ashar\"\n",
    "Rnum=61\n",
    "print(name.rjust(Rnum))"
   ]
  },
  {
   "cell_type": "code",
   "execution_count": 43,
   "metadata": {},
   "outputs": [
    {
     "name": "stdout",
     "output_type": "stream",
     "text": [
      "this is upper\n",
      "this is upper\n"
     ]
    }
   ],
   "source": [
    "#--Swapcase\n",
    "name=\"This is Lower but Now Upper Case\"\n",
    "name=\"THIS IS UPPER\"\n",
    "print(name.swapcase())\n",
    "print(name.swapcase())"
   ]
  },
  {
   "cell_type": "code",
   "execution_count": 44,
   "metadata": {},
   "outputs": [
    {
     "name": "stdout",
     "output_type": "stream",
     "text": [
      "IBAL\n"
     ]
    }
   ],
   "source": [
    "#--Strip\n",
    "name=\"HANNIBAL\"\n",
    "print(name.strip(\"HAN\"))"
   ]
  },
  {
   "cell_type": "code",
   "execution_count": 46,
   "metadata": {},
   "outputs": [
    {
     "name": "stdout",
     "output_type": "stream",
     "text": [
      "         HANNIBAL\n"
     ]
    }
   ],
   "source": [
    "#--Lstrip\n",
    "name=\"         HANNIBAL\"\n",
    "print(name.lstrip(\"HAN\"))"
   ]
  },
  {
   "cell_type": "code",
   "execution_count": 47,
   "metadata": {},
   "outputs": [
    {
     "name": "stdout",
     "output_type": "stream",
     "text": [
      "HANNIBAL          \n"
     ]
    }
   ],
   "source": [
    "#--Rstrip\n",
    "name=\"HANNIBAL          \"\n",
    "print(name.rstrip(\"HAN\"))"
   ]
  },
  {
   "cell_type": "code",
   "execution_count": 48,
   "metadata": {},
   "outputs": [
    {
     "name": "stdout",
     "output_type": "stream",
     "text": [
      "('', 'Ashar', ' Naveed')\n"
     ]
    }
   ],
   "source": [
    "#--Partition\n",
    "name=\"Ashar Naveed\"\n",
    "print(name.partition(\"Ashar\"))"
   ]
  },
  {
   "cell_type": "code",
   "execution_count": 49,
   "metadata": {},
   "outputs": [
    {
     "name": "stdout",
     "output_type": "stream",
     "text": [
      "{97: '123', 98: '456', 99: '789'}\n"
     ]
    }
   ],
   "source": [
    "#--Maketrans\n",
    "dict = {\"a\": \"123\", \"b\": \"456\", \"c\": \"789\"}\n",
    "string = \"abc\"\n",
    "print(string.maketrans(dict))"
   ]
  },
  {
   "cell_type": "code",
   "execution_count": 50,
   "metadata": {},
   "outputs": [
    {
     "name": "stdout",
     "output_type": "stream",
     "text": [
      "('Developing ', 'is', ' Fun')\n"
     ]
    }
   ],
   "source": [
    "#--Rpartition\n",
    "text=\"Developing is Fun\"\n",
    "print(text.rpartition(\"is\"))"
   ]
  },
  {
   "cell_type": "code",
   "execution_count": 55,
   "metadata": {},
   "outputs": [
    {
     "name": "stdout",
     "output_type": "stream",
     "text": [
      "Original string: abcdefghi\n",
      "{97: 100, 98: 101, 99: 102, 103: None, 104: None, 105: None}\n"
     ]
    }
   ],
   "source": [
    "#--Translate\n",
    "String_1 = \"abc\"\n",
    "String_2= \"def\"\n",
    "String_3= \"ghi\"\n",
    "String_total = \"abcdefghi\"\n",
    "print(\"Original string:\", String_total)\n",
    "translation = String_total.maketrans(String_1, String_2, String_3)\n",
    "print(translation)"
   ]
  },
  {
   "cell_type": "code",
   "execution_count": 57,
   "metadata": {},
   "outputs": [
    {
     "name": "stdout",
     "output_type": "stream",
     "text": [
      "Substring 'Patang': 16\n"
     ]
    }
   ],
   "source": [
    "#--Refind\n",
    "Inverted_String = 'Patang, Patang, Patang'\n",
    "result = Inverted_String.rfind('Patang')\n",
    "print(\"Substring 'Patang':\", result)"
   ]
  },
  {
   "cell_type": "code",
   "execution_count": 60,
   "metadata": {},
   "outputs": [
    {
     "name": "stdout",
     "output_type": "stream",
     "text": [
      "Substring 'let it': 22\n"
     ]
    }
   ],
   "source": [
    "#--Rindex\n",
    "Inverted_String = 'Let it be, let it be, let it be'\n",
    "result = Inverted_String.rindex('let it')\n",
    "print(\"Substring 'let it':\", result)"
   ]
  },
  {
   "cell_type": "code",
   "execution_count": 61,
   "metadata": {},
   "outputs": [
    {
     "name": "stdout",
     "output_type": "stream",
     "text": [
      "True\n"
     ]
    }
   ],
   "source": [
    "#--IsAscii\n",
    "year=\"2016\"\n",
    "print(name.isascii())"
   ]
  },
  {
   "cell_type": "code",
   "execution_count": 1,
   "metadata": {},
   "outputs": [
    {
     "name": "stdout",
     "output_type": "stream",
     "text": [
      "Theoratical Sujects are lame\n",
      "Theoratical Sujects are lame\n",
      "Theoratical Sujects are lame\n"
     ]
    }
   ],
   "source": [
    "#--Zfill\n",
    "text = \"Theoratical Sujects are lame\"\n",
    "print(text.zfill(3))\n",
    "print(text.zfill(2))\n",
    "print(text.zfill(1))"
   ]
  },
  {
   "cell_type": "code",
   "execution_count": 2,
   "metadata": {},
   "outputs": [
    {
     "name": "stdout",
     "output_type": "stream",
     "text": [
      "4.5\n",
      "16.5\n"
     ]
    }
   ],
   "source": [
    "#--Add\n",
    "numbers = [2.5, 3, 4, -5]\n",
    "numbersSum = sum(numbers)\n",
    "print(numbersSum)\n",
    "numbersSum = sum(numbers, 12)\n",
    "print(numbersSum)"
   ]
  },
  {
   "cell_type": "code",
   "execution_count": 3,
   "metadata": {
    "scrolled": true
   },
   "outputs": [
    {
     "name": "stdout",
     "output_type": "stream",
     "text": [
      "['__add__', '__class__', '__contains__', '__delattr__', '__dir__', '__doc__', '__eq__', '__format__', '__ge__', '__getattribute__', '__getitem__', '__getnewargs__', '__gt__', '__hash__', '__init__', '__init_subclass__', '__iter__', '__le__', '__len__', '__lt__', '__mod__', '__mul__', '__ne__', '__new__', '__reduce__', '__reduce_ex__', '__repr__', '__rmod__', '__rmul__', '__setattr__', '__sizeof__', '__str__', '__subclasshook__', 'capitalize', 'casefold', 'center', 'count', 'encode', 'endswith', 'expandtabs', 'find', 'format', 'format_map', 'index', 'isalnum', 'isalpha', 'isascii', 'isdecimal', 'isdigit', 'isidentifier', 'islower', 'isnumeric', 'isprintable', 'isspace', 'istitle', 'isupper', 'join', 'ljust', 'lower', 'lstrip', 'maketrans', 'partition', 'replace', 'rfind', 'rindex', 'rjust', 'rpartition', 'rsplit', 'rstrip', 'split', 'splitlines', 'startswith', 'strip', 'swapcase', 'title', 'translate', 'upper', 'zfill']\n"
     ]
    }
   ],
   "source": [
    "#--Dir\n",
    "name=\"a\"\n",
    "print(dir(name))"
   ]
  }
 ],
 "metadata": {
  "kernelspec": {
   "display_name": "Python 3",
   "language": "python",
   "name": "python3"
  },
  "language_info": {
   "codemirror_mode": {
    "name": "ipython",
    "version": 3
   },
   "file_extension": ".py",
   "mimetype": "text/x-python",
   "name": "python",
   "nbconvert_exporter": "python",
   "pygments_lexer": "ipython3",
   "version": "3.7.4"
  }
 },
 "nbformat": 4,
 "nbformat_minor": 2
}
